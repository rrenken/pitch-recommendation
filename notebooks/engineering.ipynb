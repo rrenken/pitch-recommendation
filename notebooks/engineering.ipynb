{
 "cells": [
  {
   "cell_type": "code",
   "execution_count": 1,
   "metadata": {},
   "outputs": [],
   "source": [
    "import sys\n",
    "import os\n",
    "import warnings\n",
    "import pandas as pd\n",
    "import numpy as np\n",
    "warnings.filterwarnings(\"ignore\", category=FutureWarning)\n",
    "\n",
    "# Add the src directory to Python path\n",
    "sys.path.append(os.path.abspath('../src'))\n",
    "\n",
    "from feature_engineering import apply_all_features"
   ]
  },
  {
   "cell_type": "code",
   "execution_count": 2,
   "metadata": {},
   "outputs": [
    {
     "name": "stderr",
     "output_type": "stream",
     "text": [
      "C:\\Users\\ryanr\\AppData\\Local\\Temp\\ipykernel_27620\\1443334169.py:2: DtypeWarning: Columns (10) have mixed types. Specify dtype option on import or set low_memory=False.\n",
      "  cleaned_df = pd.read_csv('../data/processed/pitcher_cleaned_21-24.csv',\n"
     ]
    }
   ],
   "source": [
    "# Load combined dataset\n",
    "cleaned_df = pd.read_csv('../data/processed/pitcher_cleaned_21-24.csv', \n",
    "                         parse_dates=['game_date'])\n",
    "\n",
    "# Apply all feature engineering in one go\n",
    "final_df = apply_all_features(cleaned_df)"
   ]
  },
  {
   "cell_type": "code",
   "execution_count": 3,
   "metadata": {},
   "outputs": [
    {
     "data": {
      "application/vnd.microsoft.datawrangler.viewer.v0+json": {
       "columns": [
        {
         "name": "index",
         "rawType": "int64",
         "type": "integer"
        },
        {
         "name": "pitch_type",
         "rawType": "object",
         "type": "string"
        },
        {
         "name": "game_date",
         "rawType": "datetime64[ns]",
         "type": "datetime"
        },
        {
         "name": "release_speed",
         "rawType": "float64",
         "type": "float"
        },
        {
         "name": "release_pos_x",
         "rawType": "float64",
         "type": "float"
        },
        {
         "name": "release_pos_z",
         "rawType": "float64",
         "type": "float"
        },
        {
         "name": "player_name",
         "rawType": "object",
         "type": "string"
        },
        {
         "name": "batter",
         "rawType": "int64",
         "type": "integer"
        },
        {
         "name": "pitcher",
         "rawType": "int64",
         "type": "integer"
        },
        {
         "name": "events",
         "rawType": "object",
         "type": "string"
        },
        {
         "name": "description",
         "rawType": "object",
         "type": "string"
        },
        {
         "name": "zone",
         "rawType": "object",
         "type": "unknown"
        },
        {
         "name": "des",
         "rawType": "object",
         "type": "string"
        },
        {
         "name": "game_type",
         "rawType": "object",
         "type": "string"
        },
        {
         "name": "stand",
         "rawType": "object",
         "type": "string"
        },
        {
         "name": "p_throws",
         "rawType": "object",
         "type": "string"
        },
        {
         "name": "home_team",
         "rawType": "object",
         "type": "string"
        },
        {
         "name": "away_team",
         "rawType": "object",
         "type": "string"
        },
        {
         "name": "type",
         "rawType": "object",
         "type": "string"
        },
        {
         "name": "hit_location",
         "rawType": "object",
         "type": "string"
        },
        {
         "name": "bb_type",
         "rawType": "object",
         "type": "string"
        },
        {
         "name": "balls",
         "rawType": "int64",
         "type": "integer"
        },
        {
         "name": "strikes",
         "rawType": "int64",
         "type": "integer"
        },
        {
         "name": "game_year",
         "rawType": "int64",
         "type": "integer"
        },
        {
         "name": "pfx_x",
         "rawType": "float64",
         "type": "float"
        },
        {
         "name": "pfx_z",
         "rawType": "float64",
         "type": "float"
        },
        {
         "name": "plate_x",
         "rawType": "float64",
         "type": "float"
        },
        {
         "name": "plate_z",
         "rawType": "float64",
         "type": "float"
        },
        {
         "name": "on_3b",
         "rawType": "float64",
         "type": "float"
        },
        {
         "name": "on_2b",
         "rawType": "float64",
         "type": "float"
        },
        {
         "name": "on_1b",
         "rawType": "float64",
         "type": "float"
        },
        {
         "name": "outs_when_up",
         "rawType": "int64",
         "type": "integer"
        },
        {
         "name": "inning",
         "rawType": "int64",
         "type": "integer"
        },
        {
         "name": "inning_topbot",
         "rawType": "object",
         "type": "string"
        },
        {
         "name": "hc_x",
         "rawType": "float64",
         "type": "float"
        },
        {
         "name": "hc_y",
         "rawType": "float64",
         "type": "float"
        },
        {
         "name": "vx0",
         "rawType": "float64",
         "type": "float"
        },
        {
         "name": "vy0",
         "rawType": "float64",
         "type": "float"
        },
        {
         "name": "vz0",
         "rawType": "float64",
         "type": "float"
        },
        {
         "name": "ax",
         "rawType": "float64",
         "type": "float"
        },
        {
         "name": "ay",
         "rawType": "float64",
         "type": "float"
        },
        {
         "name": "az",
         "rawType": "float64",
         "type": "float"
        },
        {
         "name": "sz_top",
         "rawType": "float64",
         "type": "float"
        },
        {
         "name": "sz_bot",
         "rawType": "float64",
         "type": "float"
        },
        {
         "name": "hit_distance_sc",
         "rawType": "float64",
         "type": "float"
        },
        {
         "name": "launch_speed",
         "rawType": "float64",
         "type": "float"
        },
        {
         "name": "launch_angle",
         "rawType": "float64",
         "type": "float"
        },
        {
         "name": "effective_speed",
         "rawType": "float64",
         "type": "float"
        },
        {
         "name": "release_spin_rate",
         "rawType": "float64",
         "type": "float"
        },
        {
         "name": "release_extension",
         "rawType": "float64",
         "type": "float"
        },
        {
         "name": "game_pk",
         "rawType": "int64",
         "type": "integer"
        },
        {
         "name": "fielder_2",
         "rawType": "int64",
         "type": "integer"
        },
        {
         "name": "fielder_3",
         "rawType": "int64",
         "type": "integer"
        },
        {
         "name": "fielder_4",
         "rawType": "int64",
         "type": "integer"
        },
        {
         "name": "fielder_5",
         "rawType": "int64",
         "type": "integer"
        },
        {
         "name": "fielder_6",
         "rawType": "int64",
         "type": "integer"
        },
        {
         "name": "fielder_7",
         "rawType": "int64",
         "type": "integer"
        },
        {
         "name": "fielder_8",
         "rawType": "int64",
         "type": "integer"
        },
        {
         "name": "fielder_9",
         "rawType": "int64",
         "type": "integer"
        },
        {
         "name": "release_pos_y",
         "rawType": "float64",
         "type": "float"
        },
        {
         "name": "estimated_ba_using_speedangle",
         "rawType": "float64",
         "type": "float"
        },
        {
         "name": "estimated_woba_using_speedangle",
         "rawType": "float64",
         "type": "float"
        },
        {
         "name": "woba_value",
         "rawType": "float64",
         "type": "float"
        },
        {
         "name": "woba_denom",
         "rawType": "float64",
         "type": "float"
        },
        {
         "name": "babip_value",
         "rawType": "float64",
         "type": "float"
        },
        {
         "name": "iso_value",
         "rawType": "float64",
         "type": "float"
        },
        {
         "name": "launch_speed_angle",
         "rawType": "object",
         "type": "string"
        },
        {
         "name": "at_bat_number",
         "rawType": "int64",
         "type": "integer"
        },
        {
         "name": "pitch_number",
         "rawType": "int64",
         "type": "integer"
        },
        {
         "name": "pitch_name",
         "rawType": "object",
         "type": "string"
        },
        {
         "name": "home_score",
         "rawType": "int64",
         "type": "integer"
        },
        {
         "name": "away_score",
         "rawType": "int64",
         "type": "integer"
        },
        {
         "name": "bat_score",
         "rawType": "int64",
         "type": "integer"
        },
        {
         "name": "fld_score",
         "rawType": "int64",
         "type": "integer"
        },
        {
         "name": "post_away_score",
         "rawType": "int64",
         "type": "integer"
        },
        {
         "name": "post_home_score",
         "rawType": "int64",
         "type": "integer"
        },
        {
         "name": "post_bat_score",
         "rawType": "int64",
         "type": "integer"
        },
        {
         "name": "post_fld_score",
         "rawType": "int64",
         "type": "integer"
        },
        {
         "name": "if_fielding_alignment",
         "rawType": "object",
         "type": "string"
        },
        {
         "name": "of_fielding_alignment",
         "rawType": "object",
         "type": "string"
        },
        {
         "name": "spin_axis",
         "rawType": "float64",
         "type": "float"
        },
        {
         "name": "delta_home_win_exp",
         "rawType": "float64",
         "type": "float"
        },
        {
         "name": "delta_run_exp",
         "rawType": "float64",
         "type": "float"
        },
        {
         "name": "bat_speed",
         "rawType": "float64",
         "type": "float"
        },
        {
         "name": "swing_length",
         "rawType": "float64",
         "type": "float"
        },
        {
         "name": "estimated_slg_using_speedangle",
         "rawType": "float64",
         "type": "float"
        },
        {
         "name": "delta_pitcher_run_exp",
         "rawType": "float64",
         "type": "float"
        },
        {
         "name": "hyper_speed",
         "rawType": "float64",
         "type": "float"
        },
        {
         "name": "home_score_diff",
         "rawType": "int64",
         "type": "integer"
        },
        {
         "name": "bat_score_diff",
         "rawType": "int64",
         "type": "integer"
        },
        {
         "name": "home_win_exp",
         "rawType": "float64",
         "type": "float"
        },
        {
         "name": "bat_win_exp",
         "rawType": "float64",
         "type": "float"
        },
        {
         "name": "age_pit_legacy",
         "rawType": "int64",
         "type": "integer"
        },
        {
         "name": "age_bat_legacy",
         "rawType": "int64",
         "type": "integer"
        },
        {
         "name": "age_pit",
         "rawType": "int64",
         "type": "integer"
        },
        {
         "name": "age_bat",
         "rawType": "int64",
         "type": "integer"
        },
        {
         "name": "n_thruorder_pitcher",
         "rawType": "int64",
         "type": "integer"
        },
        {
         "name": "n_priorpa_thisgame_player_at_bat",
         "rawType": "int64",
         "type": "integer"
        },
        {
         "name": "pitcher_days_since_prev_game",
         "rawType": "float64",
         "type": "float"
        },
        {
         "name": "batter_days_since_prev_game",
         "rawType": "float64",
         "type": "float"
        },
        {
         "name": "pitcher_days_until_next_game",
         "rawType": "float64",
         "type": "float"
        },
        {
         "name": "batter_days_until_next_game",
         "rawType": "float64",
         "type": "float"
        },
        {
         "name": "api_break_z_with_gravity",
         "rawType": "float64",
         "type": "float"
        },
        {
         "name": "api_break_x_arm",
         "rawType": "float64",
         "type": "float"
        },
        {
         "name": "api_break_x_batter_in",
         "rawType": "float64",
         "type": "float"
        },
        {
         "name": "arm_angle",
         "rawType": "float64",
         "type": "float"
        },
        {
         "name": "at_bat_id",
         "rawType": "object",
         "type": "string"
        },
        {
         "name": "month",
         "rawType": "int32",
         "type": "integer"
        },
        {
         "name": "score_diff",
         "rawType": "int64",
         "type": "integer"
        },
        {
         "name": "risp",
         "rawType": "bool",
         "type": "boolean"
        },
        {
         "name": "clutch",
         "rawType": "int64",
         "type": "integer"
        },
        {
         "name": "blowout",
         "rawType": "int64",
         "type": "integer"
        },
        {
         "name": "post_allstar_break",
         "rawType": "int64",
         "type": "integer"
        }
       ],
       "conversionMethod": "pd.DataFrame",
       "ref": "6ab74a79-f8e5-43c5-9ce0-4633dc838781",
       "rows": [
        [
         "0",
         "FF",
         "2021-04-30 00:00:00",
         "95.1",
         "-2.62",
         "6.42",
         "Alcala, Jorge",
         "656811",
         "660896",
         "field_out",
         "hit_into_play",
         "6.0",
         "Ryan O'Hearn flies out to left fielder Luis Arraez.",
         "R",
         "L",
         "R",
         "MIN",
         "KC",
         "X",
         "7.0",
         "fly_ball",
         "0",
         "0",
         "2021",
         "-0.75",
         "1.4",
         "0.37",
         "2.59",
         "0.0",
         "643436.0",
         "0.0",
         "2",
         "9",
         "Top",
         "54.04",
         "129.77",
         "9.411351182478068",
         "-137.96111999014028",
         "-7.39734008696116",
         "-11.743917615382651",
         "33.51705884196943",
         "-12.753280305780358",
         "3.49",
         "1.6",
         "248.0",
         "79.6",
         "45.0",
         "93.7",
         "2322.0",
         "5.9",
         "634391",
         "666163",
         "666135",
         "593871",
         "518626",
         "592743",
         "650333",
         "595909",
         "596146",
         "54.63",
         "0.029",
         "0.029",
         "0.0",
         "1.0",
         "0.0",
         "0.0",
         "3.0",
         "73",
         "1",
         "4-Seam Fastball",
         "9",
         "1",
         "1",
         "9",
         "1",
         "9",
         "1",
         "9",
         "Infield shift",
         "Standard",
         "225.0",
         "0.0",
         "-0.318",
         "0.0",
         "0.0",
         "0.041",
         "0.318",
         "88.0",
         "8",
         "-8",
         "1.0",
         "0.0",
         "25",
         "27",
         "26",
         "28",
         "1",
         "3",
         "3.0",
         "4.0",
         "2.0",
         "1.0",
         "1.15",
         "0.75",
         "-0.75",
         "40.6",
         "63439173",
         "4",
         "8",
         "True",
         "0",
         "0",
         "0"
        ],
        [
         "1",
         "FF",
         "2021-04-30 00:00:00",
         "96.3",
         "-2.58",
         "6.5",
         "Alcala, Jorge",
         "593643",
         "660896",
         "field_out",
         "hit_into_play",
         "2.0",
         "Hanser Alberto grounds out, shortstop Andrelton Simmons to first baseman Alex Kirilloff.",
         "R",
         "R",
         "R",
         "MIN",
         "KC",
         "X",
         "6.0",
         "ground_ball",
         "0",
         "2",
         "2021",
         "-0.76",
         "1.39",
         "0.15",
         "3.13",
         "0.0",
         "643436.0",
         "0.0",
         "1",
         "9",
         "Top",
         "108.48",
         "156.33",
         "8.839992247789839",
         "-139.94899725256948",
         "-6.433378646774275",
         "-12.00619716858397",
         "31.67930839211621",
         "-12.568089367008412",
         "3.32",
         "1.51",
         "17.0",
         "81.0",
         "-10.0",
         "94.9",
         "2290.0",
         "5.6",
         "634391",
         "666163",
         "666135",
         "593871",
         "518626",
         "592743",
         "650333",
         "595909",
         "596146",
         "54.95",
         "0.1",
         "0.087",
         "0.0",
         "1.0",
         "0.0",
         "0.0",
         "2.0",
         "72",
         "3",
         "4-Seam Fastball",
         "9",
         "1",
         "1",
         "9",
         "1",
         "9",
         "1",
         "9",
         "Infield shade",
         "Standard",
         "221.0",
         "0.0",
         "-0.189",
         "0.0",
         "0.0",
         "0.109",
         "0.189",
         "88.0",
         "8",
         "-8",
         "1.0",
         "0.0",
         "25",
         "28",
         "26",
         "29",
         "1",
         "0",
         "3.0",
         "2.0",
         "2.0",
         "1.0",
         "1.07",
         "0.76",
         "0.76",
         "43.0",
         "63439172",
         "4",
         "8",
         "True",
         "0",
         "0",
         "0"
        ],
        [
         "2",
         "FF",
         "2021-04-30 00:00:00",
         "94.9",
         "-2.58",
         "6.44",
         "Alcala, Jorge",
         "593643",
         "660896",
         "N/a",
         "swinging_strike",
         "12.0",
         "Hanser Alberto grounds out, shortstop Andrelton Simmons to first baseman Alex Kirilloff.",
         "R",
         "R",
         "R",
         "MIN",
         "KC",
         "S",
         "N/a",
         "N/a",
         "0",
         "1",
         "2021",
         "-0.87",
         "1.33",
         "0.74",
         "3.45",
         "0.0",
         "643436.0",
         "0.0",
         "1",
         "9",
         "Top",
         "0.0",
         "0.0",
         "10.457495146800284",
         "-137.77484620671663",
         "-5.082006583302713",
         "-13.245228184013886",
         "28.45364970096613",
         "-14.169243908228385",
         "3.32",
         "1.51",
         "0.0",
         "0.0",
         "0.0",
         "93.7",
         "2299.0",
         "5.5",
         "634391",
         "666163",
         "666135",
         "593871",
         "518626",
         "592743",
         "650333",
         "595909",
         "596146",
         "54.95",
         "0.0",
         "0.0",
         "0.0",
         "0.0",
         "0.0",
         "0.0",
         "N/a",
         "72",
         "2",
         "4-Seam Fastball",
         "9",
         "1",
         "1",
         "9",
         "1",
         "9",
         "1",
         "9",
         "Infield shade",
         "Standard",
         "220.0",
         "0.0",
         "-0.079",
         "0.0",
         "0.0",
         "0.0",
         "0.079",
         "0.0",
         "8",
         "-8",
         "1.0",
         "0.0",
         "25",
         "28",
         "26",
         "29",
         "1",
         "0",
         "3.0",
         "2.0",
         "2.0",
         "1.0",
         "1.19",
         "0.87",
         "0.87",
         "42.0",
         "63439172",
         "4",
         "8",
         "True",
         "0",
         "0",
         "0"
        ],
        [
         "3",
         "FF",
         "2021-04-30 00:00:00",
         "94.7",
         "-2.68",
         "6.38",
         "Alcala, Jorge",
         "593643",
         "660896",
         "N/a",
         "called_strike",
         "9.0",
         "Hanser Alberto grounds out, shortstop Andrelton Simmons to first baseman Alex Kirilloff.",
         "R",
         "R",
         "R",
         "MIN",
         "KC",
         "S",
         "N/a",
         "N/a",
         "0",
         "0",
         "2021",
         "-0.98",
         "1.32",
         "0.48",
         "2.01",
         "0.0",
         "643436.0",
         "0.0",
         "1",
         "9",
         "Top",
         "0.0",
         "0.0",
         "10.264304184181585",
         "-137.3537837339563",
         "-8.555894753694444",
         "-14.56316451694606",
         "29.00292977690613",
         "-13.70723791107866",
         "3.42",
         "1.61",
         "0.0",
         "0.0",
         "0.0",
         "93.4",
         "2324.0",
         "5.6",
         "634391",
         "666163",
         "666135",
         "593871",
         "518626",
         "592743",
         "650333",
         "595909",
         "596146",
         "54.88",
         "0.0",
         "0.0",
         "0.0",
         "0.0",
         "0.0",
         "0.0",
         "N/a",
         "72",
         "1",
         "4-Seam Fastball",
         "9",
         "1",
         "1",
         "9",
         "1",
         "9",
         "1",
         "9",
         "Infield shade",
         "Standard",
         "226.0",
         "0.0",
         "-0.046",
         "0.0",
         "0.0",
         "0.0",
         "0.046",
         "0.0",
         "8",
         "-8",
         "1.0",
         "0.0",
         "25",
         "28",
         "26",
         "29",
         "1",
         "0",
         "3.0",
         "2.0",
         "2.0",
         "1.0",
         "1.23",
         "0.98",
         "0.98",
         "39.9",
         "63439172",
         "4",
         "8",
         "True",
         "0",
         "0",
         "0"
        ],
        [
         "4",
         "FF",
         "2021-04-30 00:00:00",
         "93.8",
         "-2.71",
         "6.3",
         "Alcala, Jorge",
         "595956",
         "660896",
         "field_out",
         "hit_into_play",
         "9.0",
         "Cam Gallagher grounds out, third baseman Josh Donaldson to first baseman Alex Kirilloff.   Ryan McBroom to 2nd.",
         "R",
         "R",
         "R",
         "MIN",
         "KC",
         "X",
         "5.0",
         "ground_ball",
         "1",
         "0",
         "2021",
         "-0.77",
         "1.27",
         "0.59",
         "1.86",
         "0.0",
         "0.0",
         "643436.0",
         "0",
         "9",
         "Top",
         "92.6",
         "170.17",
         "10.062878996882697",
         "-136.19858777876294",
         "-8.50229733805836",
         "-11.627128510165644",
         "26.654014674127303",
         "-14.63969089285558",
         "3.49",
         "1.6",
         "3.0",
         "79.1",
         "-36.0",
         "92.9",
         "2302.0",
         "5.6",
         "634391",
         "666163",
         "666135",
         "593871",
         "518626",
         "592743",
         "650333",
         "595909",
         "596146",
         "54.85",
         "0.074",
         "0.05",
         "0.0",
         "1.0",
         "0.0",
         "0.0",
         "2.0",
         "71",
         "2",
         "4-Seam Fastball",
         "9",
         "1",
         "1",
         "9",
         "1",
         "9",
         "1",
         "9",
         "Standard",
         "Standard",
         "226.0",
         "0.001",
         "-0.596",
         "0.0",
         "0.0",
         "0.081",
         "0.596",
         "88.0",
         "8",
         "-8",
         "0.999",
         "0.001",
         "25",
         "28",
         "26",
         "29",
         "1",
         "0",
         "3.0",
         "4.0",
         "2.0",
         "1.0",
         "1.31",
         "0.77",
         "0.77",
         "39.8",
         "63439171",
         "4",
         "8",
         "False",
         "0",
         "0",
         "0"
        ]
       ],
       "shape": {
        "columns": 112,
        "rows": 5
       }
      },
      "text/html": [
       "<div>\n",
       "<style scoped>\n",
       "    .dataframe tbody tr th:only-of-type {\n",
       "        vertical-align: middle;\n",
       "    }\n",
       "\n",
       "    .dataframe tbody tr th {\n",
       "        vertical-align: top;\n",
       "    }\n",
       "\n",
       "    .dataframe thead th {\n",
       "        text-align: right;\n",
       "    }\n",
       "</style>\n",
       "<table border=\"1\" class=\"dataframe\">\n",
       "  <thead>\n",
       "    <tr style=\"text-align: right;\">\n",
       "      <th></th>\n",
       "      <th>pitch_type</th>\n",
       "      <th>game_date</th>\n",
       "      <th>release_speed</th>\n",
       "      <th>release_pos_x</th>\n",
       "      <th>release_pos_z</th>\n",
       "      <th>player_name</th>\n",
       "      <th>batter</th>\n",
       "      <th>pitcher</th>\n",
       "      <th>events</th>\n",
       "      <th>description</th>\n",
       "      <th>...</th>\n",
       "      <th>api_break_x_arm</th>\n",
       "      <th>api_break_x_batter_in</th>\n",
       "      <th>arm_angle</th>\n",
       "      <th>at_bat_id</th>\n",
       "      <th>month</th>\n",
       "      <th>score_diff</th>\n",
       "      <th>risp</th>\n",
       "      <th>clutch</th>\n",
       "      <th>blowout</th>\n",
       "      <th>post_allstar_break</th>\n",
       "    </tr>\n",
       "  </thead>\n",
       "  <tbody>\n",
       "    <tr>\n",
       "      <th>0</th>\n",
       "      <td>FF</td>\n",
       "      <td>2021-04-30</td>\n",
       "      <td>95.1</td>\n",
       "      <td>-2.62</td>\n",
       "      <td>6.42</td>\n",
       "      <td>Alcala, Jorge</td>\n",
       "      <td>656811</td>\n",
       "      <td>660896</td>\n",
       "      <td>field_out</td>\n",
       "      <td>hit_into_play</td>\n",
       "      <td>...</td>\n",
       "      <td>0.75</td>\n",
       "      <td>-0.75</td>\n",
       "      <td>40.6</td>\n",
       "      <td>63439173</td>\n",
       "      <td>4</td>\n",
       "      <td>8</td>\n",
       "      <td>True</td>\n",
       "      <td>0</td>\n",
       "      <td>0</td>\n",
       "      <td>0</td>\n",
       "    </tr>\n",
       "    <tr>\n",
       "      <th>1</th>\n",
       "      <td>FF</td>\n",
       "      <td>2021-04-30</td>\n",
       "      <td>96.3</td>\n",
       "      <td>-2.58</td>\n",
       "      <td>6.50</td>\n",
       "      <td>Alcala, Jorge</td>\n",
       "      <td>593643</td>\n",
       "      <td>660896</td>\n",
       "      <td>field_out</td>\n",
       "      <td>hit_into_play</td>\n",
       "      <td>...</td>\n",
       "      <td>0.76</td>\n",
       "      <td>0.76</td>\n",
       "      <td>43.0</td>\n",
       "      <td>63439172</td>\n",
       "      <td>4</td>\n",
       "      <td>8</td>\n",
       "      <td>True</td>\n",
       "      <td>0</td>\n",
       "      <td>0</td>\n",
       "      <td>0</td>\n",
       "    </tr>\n",
       "    <tr>\n",
       "      <th>2</th>\n",
       "      <td>FF</td>\n",
       "      <td>2021-04-30</td>\n",
       "      <td>94.9</td>\n",
       "      <td>-2.58</td>\n",
       "      <td>6.44</td>\n",
       "      <td>Alcala, Jorge</td>\n",
       "      <td>593643</td>\n",
       "      <td>660896</td>\n",
       "      <td>N/a</td>\n",
       "      <td>swinging_strike</td>\n",
       "      <td>...</td>\n",
       "      <td>0.87</td>\n",
       "      <td>0.87</td>\n",
       "      <td>42.0</td>\n",
       "      <td>63439172</td>\n",
       "      <td>4</td>\n",
       "      <td>8</td>\n",
       "      <td>True</td>\n",
       "      <td>0</td>\n",
       "      <td>0</td>\n",
       "      <td>0</td>\n",
       "    </tr>\n",
       "    <tr>\n",
       "      <th>3</th>\n",
       "      <td>FF</td>\n",
       "      <td>2021-04-30</td>\n",
       "      <td>94.7</td>\n",
       "      <td>-2.68</td>\n",
       "      <td>6.38</td>\n",
       "      <td>Alcala, Jorge</td>\n",
       "      <td>593643</td>\n",
       "      <td>660896</td>\n",
       "      <td>N/a</td>\n",
       "      <td>called_strike</td>\n",
       "      <td>...</td>\n",
       "      <td>0.98</td>\n",
       "      <td>0.98</td>\n",
       "      <td>39.9</td>\n",
       "      <td>63439172</td>\n",
       "      <td>4</td>\n",
       "      <td>8</td>\n",
       "      <td>True</td>\n",
       "      <td>0</td>\n",
       "      <td>0</td>\n",
       "      <td>0</td>\n",
       "    </tr>\n",
       "    <tr>\n",
       "      <th>4</th>\n",
       "      <td>FF</td>\n",
       "      <td>2021-04-30</td>\n",
       "      <td>93.8</td>\n",
       "      <td>-2.71</td>\n",
       "      <td>6.30</td>\n",
       "      <td>Alcala, Jorge</td>\n",
       "      <td>595956</td>\n",
       "      <td>660896</td>\n",
       "      <td>field_out</td>\n",
       "      <td>hit_into_play</td>\n",
       "      <td>...</td>\n",
       "      <td>0.77</td>\n",
       "      <td>0.77</td>\n",
       "      <td>39.8</td>\n",
       "      <td>63439171</td>\n",
       "      <td>4</td>\n",
       "      <td>8</td>\n",
       "      <td>False</td>\n",
       "      <td>0</td>\n",
       "      <td>0</td>\n",
       "      <td>0</td>\n",
       "    </tr>\n",
       "  </tbody>\n",
       "</table>\n",
       "<p>5 rows × 112 columns</p>\n",
       "</div>"
      ],
      "text/plain": [
       "  pitch_type  game_date  release_speed  release_pos_x  release_pos_z  \\\n",
       "0         FF 2021-04-30           95.1          -2.62           6.42   \n",
       "1         FF 2021-04-30           96.3          -2.58           6.50   \n",
       "2         FF 2021-04-30           94.9          -2.58           6.44   \n",
       "3         FF 2021-04-30           94.7          -2.68           6.38   \n",
       "4         FF 2021-04-30           93.8          -2.71           6.30   \n",
       "\n",
       "     player_name  batter  pitcher     events      description  ...  \\\n",
       "0  Alcala, Jorge  656811   660896  field_out    hit_into_play  ...   \n",
       "1  Alcala, Jorge  593643   660896  field_out    hit_into_play  ...   \n",
       "2  Alcala, Jorge  593643   660896        N/a  swinging_strike  ...   \n",
       "3  Alcala, Jorge  593643   660896        N/a    called_strike  ...   \n",
       "4  Alcala, Jorge  595956   660896  field_out    hit_into_play  ...   \n",
       "\n",
       "  api_break_x_arm api_break_x_batter_in arm_angle at_bat_id month score_diff  \\\n",
       "0            0.75                 -0.75      40.6  63439173     4          8   \n",
       "1            0.76                  0.76      43.0  63439172     4          8   \n",
       "2            0.87                  0.87      42.0  63439172     4          8   \n",
       "3            0.98                  0.98      39.9  63439172     4          8   \n",
       "4            0.77                  0.77      39.8  63439171     4          8   \n",
       "\n",
       "    risp clutch blowout post_allstar_break  \n",
       "0   True      0       0                  0  \n",
       "1   True      0       0                  0  \n",
       "2   True      0       0                  0  \n",
       "3   True      0       0                  0  \n",
       "4  False      0       0                  0  \n",
       "\n",
       "[5 rows x 112 columns]"
      ]
     },
     "execution_count": 3,
     "metadata": {},
     "output_type": "execute_result"
    }
   ],
   "source": [
    "final_df.head()"
   ]
  },
  {
   "cell_type": "code",
   "execution_count": 4,
   "metadata": {},
   "outputs": [],
   "source": [
    "final_df.to_csv('../data/processed/pitcher_final_21-24.csv', index=False)"
   ]
  },
  {
   "cell_type": "code",
   "execution_count": null,
   "metadata": {},
   "outputs": [],
   "source": []
  }
 ],
 "metadata": {
  "kernelspec": {
   "display_name": "env_baseball",
   "language": "python",
   "name": "python3"
  },
  "language_info": {
   "codemirror_mode": {
    "name": "ipython",
    "version": 3
   },
   "file_extension": ".py",
   "mimetype": "text/x-python",
   "name": "python",
   "nbconvert_exporter": "python",
   "pygments_lexer": "ipython3",
   "version": "3.9.21"
  }
 },
 "nbformat": 4,
 "nbformat_minor": 2
}
