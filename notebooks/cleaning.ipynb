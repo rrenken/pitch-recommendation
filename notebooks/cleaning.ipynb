{
 "cells": [
  {
   "cell_type": "code",
   "execution_count": 4,
   "metadata": {},
   "outputs": [],
   "source": [
    "import sys\n",
    "import os\n",
    "import warnings\n",
    "import pandas as pd\n",
    "import numpy as np\n",
    "warnings.filterwarnings(\"ignore\", category=FutureWarning)\n",
    "\n",
    "# Add the src directory to Python path\n",
    "sys.path.append(os.path.abspath('../src'))\n",
    "\n",
    "from data_cleaning import combine_pitcher_data, drop_null_columns, handle_missing_efficient, rename_columns, combine_pitcher_data_testing\n"
   ]
  },
  {
   "cell_type": "code",
   "execution_count": null,
   "metadata": {},
   "outputs": [],
   "source": [
    "# combine all csv files from the raw/pitcher directory\n",
    "test_data = combine_pitcher_data()"
   ]
  },
  {
   "cell_type": "code",
   "execution_count": 3,
   "metadata": {},
   "outputs": [
    {
     "data": {
      "text/plain": [
       "(3073582, 113)"
      ]
     },
     "execution_count": 3,
     "metadata": {},
     "output_type": "execute_result"
    }
   ],
   "source": [
    "# check dimensions of the combined data\n",
    "test_data.shape"
   ]
  },
  {
   "cell_type": "code",
   "execution_count": 4,
   "metadata": {},
   "outputs": [
    {
     "data": {
      "text/plain": [
       "['spin_dir',\n",
       " 'spin_rate_deprecated',\n",
       " 'break_angle_deprecated',\n",
       " 'break_length_deprecated',\n",
       " 'tfs_deprecated',\n",
       " 'tfs_zulu_deprecated',\n",
       " 'umpire',\n",
       " 'sv_id']"
      ]
     },
     "execution_count": 4,
     "metadata": {},
     "output_type": "execute_result"
    }
   ],
   "source": [
    "# identify columns with all missing values\n",
    "missing_cols = test_data.columns[test_data.isnull().all()].tolist()\n",
    "missing_cols"
   ]
  },
  {
   "cell_type": "code",
   "execution_count": 5,
   "metadata": {},
   "outputs": [
    {
     "data": {
      "text/plain": [
       "(3073582, 103)"
      ]
     },
     "execution_count": 5,
     "metadata": {},
     "output_type": "execute_result"
    }
   ],
   "source": [
    "# drop columns that are completely null\n",
    "test_data = drop_null_columns(test_data)\n",
    "test_data.shape"
   ]
  },
  {
   "cell_type": "code",
   "execution_count": null,
   "metadata": {},
   "outputs": [],
   "source": [
    "# save the data to a csv file\n",
    "# test_data.to_csv('../data/processed/pitcher_combined_21-24.csv', index=False)"
   ]
  },
  {
   "cell_type": "code",
   "execution_count": 6,
   "metadata": {},
   "outputs": [
    {
     "data": {
      "text/plain": [
       "Series([], dtype: int64)"
      ]
     },
     "execution_count": 6,
     "metadata": {},
     "output_type": "execute_result"
    }
   ],
   "source": [
    "fill_missing = handle_missing_efficient(test_data)\n",
    "\n",
    "# check for missing values\n",
    "missing_values = fill_missing.isnull().sum()\n",
    "missing_values[missing_values > 0]"
   ]
  },
  {
   "cell_type": "code",
   "execution_count": 7,
   "metadata": {},
   "outputs": [],
   "source": [
    "cleaned_df = rename_columns(fill_missing)"
   ]
  },
  {
   "cell_type": "code",
   "execution_count": 8,
   "metadata": {},
   "outputs": [],
   "source": [
    "cleaned_df.to_csv('../data/processed/pitcher_cleaned_21-24.csv', index=False)"
   ]
  },
  {
   "cell_type": "code",
   "execution_count": 9,
   "metadata": {},
   "outputs": [
    {
     "data": {
      "text/plain": [
       "(3073582, 103)"
      ]
     },
     "execution_count": 9,
     "metadata": {},
     "output_type": "execute_result"
    }
   ],
   "source": [
    "cleaned_df.shape"
   ]
  },
  {
   "cell_type": "code",
   "execution_count": 10,
   "metadata": {},
   "outputs": [
    {
     "data": {
      "application/vnd.microsoft.datawrangler.viewer.v0+json": {
       "columns": [
        {
         "name": "index",
         "rawType": "int64",
         "type": "integer"
        },
        {
         "name": "pitch_type",
         "rawType": "object",
         "type": "string"
        },
        {
         "name": "game_date",
         "rawType": "object",
         "type": "string"
        },
        {
         "name": "release_speed",
         "rawType": "float64",
         "type": "float"
        },
        {
         "name": "release_pos_x",
         "rawType": "float64",
         "type": "float"
        },
        {
         "name": "release_pos_z",
         "rawType": "float64",
         "type": "float"
        },
        {
         "name": "player_name",
         "rawType": "object",
         "type": "string"
        },
        {
         "name": "batter",
         "rawType": "int64",
         "type": "integer"
        },
        {
         "name": "pitcher",
         "rawType": "int64",
         "type": "integer"
        },
        {
         "name": "events",
         "rawType": "object",
         "type": "string"
        },
        {
         "name": "zone",
         "rawType": "object",
         "type": "unknown"
        },
        {
         "name": "game_type",
         "rawType": "object",
         "type": "string"
        },
        {
         "name": "stand",
         "rawType": "object",
         "type": "string"
        },
        {
         "name": "p_throws",
         "rawType": "object",
         "type": "string"
        },
        {
         "name": "home_team",
         "rawType": "object",
         "type": "string"
        },
        {
         "name": "away_team",
         "rawType": "object",
         "type": "string"
        },
        {
         "name": "result_type",
         "rawType": "object",
         "type": "string"
        },
        {
         "name": "hit_location",
         "rawType": "object",
         "type": "unknown"
        },
        {
         "name": "bb_type",
         "rawType": "object",
         "type": "string"
        },
        {
         "name": "balls",
         "rawType": "int64",
         "type": "integer"
        },
        {
         "name": "strikes",
         "rawType": "int64",
         "type": "integer"
        },
        {
         "name": "game_year",
         "rawType": "int64",
         "type": "integer"
        },
        {
         "name": "pfx_x",
         "rawType": "float64",
         "type": "float"
        },
        {
         "name": "pfx_z",
         "rawType": "float64",
         "type": "float"
        },
        {
         "name": "plate_x",
         "rawType": "float64",
         "type": "float"
        },
        {
         "name": "plate_z",
         "rawType": "float64",
         "type": "float"
        },
        {
         "name": "on_3b",
         "rawType": "object",
         "type": "string"
        },
        {
         "name": "on_2b",
         "rawType": "object",
         "type": "unknown"
        },
        {
         "name": "on_1b",
         "rawType": "object",
         "type": "unknown"
        },
        {
         "name": "outs_when_up",
         "rawType": "int64",
         "type": "integer"
        },
        {
         "name": "inning",
         "rawType": "int64",
         "type": "integer"
        },
        {
         "name": "inning_topbot",
         "rawType": "object",
         "type": "string"
        },
        {
         "name": "hc_x",
         "rawType": "float64",
         "type": "float"
        },
        {
         "name": "hc_y",
         "rawType": "float64",
         "type": "float"
        },
        {
         "name": "vx0",
         "rawType": "float64",
         "type": "float"
        },
        {
         "name": "vy0",
         "rawType": "float64",
         "type": "float"
        },
        {
         "name": "vz0",
         "rawType": "float64",
         "type": "float"
        },
        {
         "name": "ax",
         "rawType": "float64",
         "type": "float"
        },
        {
         "name": "ay",
         "rawType": "float64",
         "type": "float"
        },
        {
         "name": "az",
         "rawType": "float64",
         "type": "float"
        },
        {
         "name": "sz_top",
         "rawType": "float64",
         "type": "float"
        },
        {
         "name": "sz_bot",
         "rawType": "float64",
         "type": "float"
        },
        {
         "name": "hit_distance_sc",
         "rawType": "float64",
         "type": "float"
        },
        {
         "name": "launch_speed",
         "rawType": "float64",
         "type": "float"
        },
        {
         "name": "launch_angle",
         "rawType": "float64",
         "type": "float"
        },
        {
         "name": "effective_speed",
         "rawType": "float64",
         "type": "float"
        },
        {
         "name": "release_spin_rate",
         "rawType": "float64",
         "type": "float"
        },
        {
         "name": "release_extension",
         "rawType": "float64",
         "type": "float"
        },
        {
         "name": "game_pk",
         "rawType": "int64",
         "type": "integer"
        },
        {
         "name": "fielder_2",
         "rawType": "int64",
         "type": "integer"
        },
        {
         "name": "fielder_3",
         "rawType": "int64",
         "type": "integer"
        },
        {
         "name": "fielder_4",
         "rawType": "int64",
         "type": "integer"
        },
        {
         "name": "fielder_5",
         "rawType": "int64",
         "type": "integer"
        },
        {
         "name": "fielder_6",
         "rawType": "int64",
         "type": "integer"
        },
        {
         "name": "fielder_7",
         "rawType": "int64",
         "type": "integer"
        },
        {
         "name": "fielder_8",
         "rawType": "int64",
         "type": "integer"
        },
        {
         "name": "fielder_9",
         "rawType": "int64",
         "type": "integer"
        },
        {
         "name": "release_pos_y",
         "rawType": "float64",
         "type": "float"
        },
        {
         "name": "estimated_ba_using_speedangle",
         "rawType": "float64",
         "type": "float"
        },
        {
         "name": "estimated_woba_using_speedangle",
         "rawType": "float64",
         "type": "float"
        },
        {
         "name": "woba_value",
         "rawType": "float64",
         "type": "float"
        },
        {
         "name": "woba_denom",
         "rawType": "float64",
         "type": "float"
        },
        {
         "name": "babip_value",
         "rawType": "float64",
         "type": "float"
        },
        {
         "name": "iso_value",
         "rawType": "float64",
         "type": "float"
        },
        {
         "name": "launch_speed_angle",
         "rawType": "object",
         "type": "unknown"
        },
        {
         "name": "at_bat_number",
         "rawType": "int64",
         "type": "integer"
        },
        {
         "name": "pitch_number",
         "rawType": "int64",
         "type": "integer"
        },
        {
         "name": "pitch_name",
         "rawType": "object",
         "type": "string"
        },
        {
         "name": "home_score",
         "rawType": "int64",
         "type": "integer"
        },
        {
         "name": "away_score",
         "rawType": "int64",
         "type": "integer"
        },
        {
         "name": "bat_score",
         "rawType": "int64",
         "type": "integer"
        },
        {
         "name": "fld_score",
         "rawType": "int64",
         "type": "integer"
        },
        {
         "name": "post_away_score",
         "rawType": "int64",
         "type": "integer"
        },
        {
         "name": "post_home_score",
         "rawType": "int64",
         "type": "integer"
        },
        {
         "name": "post_bat_score",
         "rawType": "int64",
         "type": "integer"
        },
        {
         "name": "post_fld_score",
         "rawType": "int64",
         "type": "integer"
        },
        {
         "name": "if_fielding_alignment",
         "rawType": "object",
         "type": "string"
        },
        {
         "name": "of_fielding_alignment",
         "rawType": "object",
         "type": "string"
        },
        {
         "name": "spin_axis",
         "rawType": "float64",
         "type": "float"
        },
        {
         "name": "delta_home_win_exp",
         "rawType": "float64",
         "type": "float"
        },
        {
         "name": "delta_run_exp",
         "rawType": "float64",
         "type": "float"
        },
        {
         "name": "bat_speed",
         "rawType": "float64",
         "type": "float"
        },
        {
         "name": "swing_length",
         "rawType": "float64",
         "type": "float"
        },
        {
         "name": "estimated_slg_using_speedangle",
         "rawType": "float64",
         "type": "float"
        },
        {
         "name": "delta_pitcher_run_exp",
         "rawType": "float64",
         "type": "float"
        },
        {
         "name": "hyper_speed",
         "rawType": "float64",
         "type": "float"
        },
        {
         "name": "home_score_diff",
         "rawType": "int64",
         "type": "integer"
        },
        {
         "name": "bat_score_diff",
         "rawType": "int64",
         "type": "integer"
        },
        {
         "name": "home_win_exp",
         "rawType": "float64",
         "type": "float"
        },
        {
         "name": "bat_win_exp",
         "rawType": "float64",
         "type": "float"
        },
        {
         "name": "age_pit_legacy",
         "rawType": "int64",
         "type": "integer"
        },
        {
         "name": "age_bat_legacy",
         "rawType": "int64",
         "type": "integer"
        },
        {
         "name": "age_pit",
         "rawType": "int64",
         "type": "integer"
        },
        {
         "name": "age_bat",
         "rawType": "int64",
         "type": "integer"
        },
        {
         "name": "n_thruorder_pitcher",
         "rawType": "int64",
         "type": "integer"
        },
        {
         "name": "n_priorpa_thisgame_player_at_bat",
         "rawType": "int64",
         "type": "integer"
        },
        {
         "name": "pitcher_days_since_prev_game",
         "rawType": "float64",
         "type": "float"
        },
        {
         "name": "batter_days_since_prev_game",
         "rawType": "float64",
         "type": "float"
        },
        {
         "name": "pitcher_days_until_next_game",
         "rawType": "float64",
         "type": "float"
        },
        {
         "name": "batter_days_until_next_game",
         "rawType": "float64",
         "type": "float"
        },
        {
         "name": "api_break_z_with_gravity",
         "rawType": "float64",
         "type": "float"
        },
        {
         "name": "api_break_x_arm",
         "rawType": "float64",
         "type": "float"
        },
        {
         "name": "api_break_x_batter_in",
         "rawType": "float64",
         "type": "float"
        },
        {
         "name": "arm_angle",
         "rawType": "float64",
         "type": "float"
        }
       ],
       "conversionMethod": "pd.DataFrame",
       "ref": "a1e15e2f-2aa1-4e68-ba72-0bc2f248aac5",
       "rows": [
        [
         "0",
         "FF",
         "2021-04-30",
         "95.1",
         "-2.62",
         "6.42",
         "Alcala, Jorge",
         "656811",
         "660896",
         "field_out",
         "6.0",
         "R",
         "L",
         "R",
         "MIN",
         "KC",
         "X",
         "7.0",
         "fly_ball",
         "0",
         "0",
         "2021",
         "-0.75",
         "1.4",
         "0.37",
         "2.59",
         "N/a",
         "643436.0",
         "N/a",
         "2",
         "9",
         "Top",
         "54.04",
         "129.77",
         "9.411351182478068",
         "-137.96111999014028",
         "-7.39734008696116",
         "-11.743917615382651",
         "33.51705884196943",
         "-12.753280305780358",
         "3.49",
         "1.6",
         "248.0",
         "79.6",
         "45.0",
         "93.7",
         "2322.0",
         "5.9",
         "634391",
         "666163",
         "666135",
         "593871",
         "518626",
         "592743",
         "650333",
         "595909",
         "596146",
         "54.63",
         "0.029",
         "0.029",
         "0.0",
         "1.0",
         "0.0",
         "0.0",
         "3.0",
         "73",
         "1",
         "4-Seam Fastball",
         "9",
         "1",
         "1",
         "9",
         "1",
         "9",
         "1",
         "9",
         "Infield shift",
         "Standard",
         "225.0",
         "0.0",
         "-0.318",
         "0.0",
         "0.0",
         "0.041",
         "0.318",
         "88.0",
         "8",
         "-8",
         "1.0",
         "0.0",
         "25",
         "27",
         "26",
         "28",
         "1",
         "3",
         "3.0",
         "4.0",
         "2.0",
         "1.0",
         "1.15",
         "0.75",
         "-0.75",
         "40.6"
        ],
        [
         "1",
         "FF",
         "2021-04-30",
         "96.3",
         "-2.58",
         "6.5",
         "Alcala, Jorge",
         "593643",
         "660896",
         "field_out",
         "2.0",
         "R",
         "R",
         "R",
         "MIN",
         "KC",
         "X",
         "6.0",
         "ground_ball",
         "0",
         "2",
         "2021",
         "-0.76",
         "1.39",
         "0.15",
         "3.13",
         "N/a",
         "643436.0",
         "N/a",
         "1",
         "9",
         "Top",
         "108.48",
         "156.33",
         "8.839992247789839",
         "-139.94899725256948",
         "-6.433378646774275",
         "-12.00619716858397",
         "31.67930839211621",
         "-12.568089367008412",
         "3.32",
         "1.51",
         "17.0",
         "81.0",
         "-10.0",
         "94.9",
         "2290.0",
         "5.6",
         "634391",
         "666163",
         "666135",
         "593871",
         "518626",
         "592743",
         "650333",
         "595909",
         "596146",
         "54.95",
         "0.1",
         "0.087",
         "0.0",
         "1.0",
         "0.0",
         "0.0",
         "2.0",
         "72",
         "3",
         "4-Seam Fastball",
         "9",
         "1",
         "1",
         "9",
         "1",
         "9",
         "1",
         "9",
         "Infield shade",
         "Standard",
         "221.0",
         "0.0",
         "-0.189",
         "0.0",
         "0.0",
         "0.109",
         "0.189",
         "88.0",
         "8",
         "-8",
         "1.0",
         "0.0",
         "25",
         "28",
         "26",
         "29",
         "1",
         "0",
         "3.0",
         "2.0",
         "2.0",
         "1.0",
         "1.07",
         "0.76",
         "0.76",
         "43.0"
        ],
        [
         "2",
         "FF",
         "2021-04-30",
         "94.9",
         "-2.58",
         "6.44",
         "Alcala, Jorge",
         "593643",
         "660896",
         "N/a",
         "12.0",
         "R",
         "R",
         "R",
         "MIN",
         "KC",
         "S",
         "N/a",
         "N/a",
         "0",
         "1",
         "2021",
         "-0.87",
         "1.33",
         "0.74",
         "3.45",
         "N/a",
         "643436.0",
         "N/a",
         "1",
         "9",
         "Top",
         "0.0",
         "0.0",
         "10.457495146800284",
         "-137.77484620671663",
         "-5.082006583302713",
         "-13.245228184013886",
         "28.45364970096613",
         "-14.169243908228385",
         "3.32",
         "1.51",
         "0.0",
         "0.0",
         "0.0",
         "93.7",
         "2299.0",
         "5.5",
         "634391",
         "666163",
         "666135",
         "593871",
         "518626",
         "592743",
         "650333",
         "595909",
         "596146",
         "54.95",
         "0.0",
         "0.0",
         "0.0",
         "0.0",
         "0.0",
         "0.0",
         "N/a",
         "72",
         "2",
         "4-Seam Fastball",
         "9",
         "1",
         "1",
         "9",
         "1",
         "9",
         "1",
         "9",
         "Infield shade",
         "Standard",
         "220.0",
         "0.0",
         "-0.079",
         "0.0",
         "0.0",
         "0.0",
         "0.079",
         "0.0",
         "8",
         "-8",
         "1.0",
         "0.0",
         "25",
         "28",
         "26",
         "29",
         "1",
         "0",
         "3.0",
         "2.0",
         "2.0",
         "1.0",
         "1.19",
         "0.87",
         "0.87",
         "42.0"
        ],
        [
         "3",
         "FF",
         "2021-04-30",
         "94.7",
         "-2.68",
         "6.38",
         "Alcala, Jorge",
         "593643",
         "660896",
         "N/a",
         "9.0",
         "R",
         "R",
         "R",
         "MIN",
         "KC",
         "S",
         "N/a",
         "N/a",
         "0",
         "0",
         "2021",
         "-0.98",
         "1.32",
         "0.48",
         "2.01",
         "N/a",
         "643436.0",
         "N/a",
         "1",
         "9",
         "Top",
         "0.0",
         "0.0",
         "10.264304184181585",
         "-137.3537837339563",
         "-8.555894753694444",
         "-14.56316451694606",
         "29.00292977690613",
         "-13.70723791107866",
         "3.42",
         "1.61",
         "0.0",
         "0.0",
         "0.0",
         "93.4",
         "2324.0",
         "5.6",
         "634391",
         "666163",
         "666135",
         "593871",
         "518626",
         "592743",
         "650333",
         "595909",
         "596146",
         "54.88",
         "0.0",
         "0.0",
         "0.0",
         "0.0",
         "0.0",
         "0.0",
         "N/a",
         "72",
         "1",
         "4-Seam Fastball",
         "9",
         "1",
         "1",
         "9",
         "1",
         "9",
         "1",
         "9",
         "Infield shade",
         "Standard",
         "226.0",
         "0.0",
         "-0.046",
         "0.0",
         "0.0",
         "0.0",
         "0.046",
         "0.0",
         "8",
         "-8",
         "1.0",
         "0.0",
         "25",
         "28",
         "26",
         "29",
         "1",
         "0",
         "3.0",
         "2.0",
         "2.0",
         "1.0",
         "1.23",
         "0.98",
         "0.98",
         "39.9"
        ],
        [
         "4",
         "FF",
         "2021-04-30",
         "93.8",
         "-2.71",
         "6.3",
         "Alcala, Jorge",
         "595956",
         "660896",
         "field_out",
         "9.0",
         "R",
         "R",
         "R",
         "MIN",
         "KC",
         "X",
         "5.0",
         "ground_ball",
         "1",
         "0",
         "2021",
         "-0.77",
         "1.27",
         "0.59",
         "1.86",
         "N/a",
         "N/a",
         "643436.0",
         "0",
         "9",
         "Top",
         "92.6",
         "170.17",
         "10.062878996882697",
         "-136.19858777876294",
         "-8.50229733805836",
         "-11.627128510165644",
         "26.654014674127303",
         "-14.63969089285558",
         "3.49",
         "1.6",
         "3.0",
         "79.1",
         "-36.0",
         "92.9",
         "2302.0",
         "5.6",
         "634391",
         "666163",
         "666135",
         "593871",
         "518626",
         "592743",
         "650333",
         "595909",
         "596146",
         "54.85",
         "0.074",
         "0.05",
         "0.0",
         "1.0",
         "0.0",
         "0.0",
         "2.0",
         "71",
         "2",
         "4-Seam Fastball",
         "9",
         "1",
         "1",
         "9",
         "1",
         "9",
         "1",
         "9",
         "Standard",
         "Standard",
         "226.0",
         "0.001",
         "-0.596",
         "0.0",
         "0.0",
         "0.081",
         "0.596",
         "88.0",
         "8",
         "-8",
         "0.999",
         "0.001",
         "25",
         "28",
         "26",
         "29",
         "1",
         "0",
         "3.0",
         "4.0",
         "2.0",
         "1.0",
         "1.31",
         "0.77",
         "0.77",
         "39.8"
        ]
       ],
       "shape": {
        "columns": 103,
        "rows": 5
       }
      },
      "text/html": [
       "<div>\n",
       "<style scoped>\n",
       "    .dataframe tbody tr th:only-of-type {\n",
       "        vertical-align: middle;\n",
       "    }\n",
       "\n",
       "    .dataframe tbody tr th {\n",
       "        vertical-align: top;\n",
       "    }\n",
       "\n",
       "    .dataframe thead th {\n",
       "        text-align: right;\n",
       "    }\n",
       "</style>\n",
       "<table border=\"1\" class=\"dataframe\">\n",
       "  <thead>\n",
       "    <tr style=\"text-align: right;\">\n",
       "      <th></th>\n",
       "      <th>pitch_type</th>\n",
       "      <th>game_date</th>\n",
       "      <th>release_speed</th>\n",
       "      <th>release_pos_x</th>\n",
       "      <th>release_pos_z</th>\n",
       "      <th>player_name</th>\n",
       "      <th>batter</th>\n",
       "      <th>pitcher</th>\n",
       "      <th>events</th>\n",
       "      <th>zone</th>\n",
       "      <th>...</th>\n",
       "      <th>n_thruorder_pitcher</th>\n",
       "      <th>n_priorpa_thisgame_player_at_bat</th>\n",
       "      <th>pitcher_days_since_prev_game</th>\n",
       "      <th>batter_days_since_prev_game</th>\n",
       "      <th>pitcher_days_until_next_game</th>\n",
       "      <th>batter_days_until_next_game</th>\n",
       "      <th>api_break_z_with_gravity</th>\n",
       "      <th>api_break_x_arm</th>\n",
       "      <th>api_break_x_batter_in</th>\n",
       "      <th>arm_angle</th>\n",
       "    </tr>\n",
       "  </thead>\n",
       "  <tbody>\n",
       "    <tr>\n",
       "      <th>0</th>\n",
       "      <td>FF</td>\n",
       "      <td>2021-04-30</td>\n",
       "      <td>95.1</td>\n",
       "      <td>-2.62</td>\n",
       "      <td>6.42</td>\n",
       "      <td>Alcala, Jorge</td>\n",
       "      <td>656811</td>\n",
       "      <td>660896</td>\n",
       "      <td>field_out</td>\n",
       "      <td>6.0</td>\n",
       "      <td>...</td>\n",
       "      <td>1</td>\n",
       "      <td>3</td>\n",
       "      <td>3.0</td>\n",
       "      <td>4.0</td>\n",
       "      <td>2.0</td>\n",
       "      <td>1.0</td>\n",
       "      <td>1.15</td>\n",
       "      <td>0.75</td>\n",
       "      <td>-0.75</td>\n",
       "      <td>40.6</td>\n",
       "    </tr>\n",
       "    <tr>\n",
       "      <th>1</th>\n",
       "      <td>FF</td>\n",
       "      <td>2021-04-30</td>\n",
       "      <td>96.3</td>\n",
       "      <td>-2.58</td>\n",
       "      <td>6.50</td>\n",
       "      <td>Alcala, Jorge</td>\n",
       "      <td>593643</td>\n",
       "      <td>660896</td>\n",
       "      <td>field_out</td>\n",
       "      <td>2.0</td>\n",
       "      <td>...</td>\n",
       "      <td>1</td>\n",
       "      <td>0</td>\n",
       "      <td>3.0</td>\n",
       "      <td>2.0</td>\n",
       "      <td>2.0</td>\n",
       "      <td>1.0</td>\n",
       "      <td>1.07</td>\n",
       "      <td>0.76</td>\n",
       "      <td>0.76</td>\n",
       "      <td>43.0</td>\n",
       "    </tr>\n",
       "    <tr>\n",
       "      <th>2</th>\n",
       "      <td>FF</td>\n",
       "      <td>2021-04-30</td>\n",
       "      <td>94.9</td>\n",
       "      <td>-2.58</td>\n",
       "      <td>6.44</td>\n",
       "      <td>Alcala, Jorge</td>\n",
       "      <td>593643</td>\n",
       "      <td>660896</td>\n",
       "      <td>N/a</td>\n",
       "      <td>12.0</td>\n",
       "      <td>...</td>\n",
       "      <td>1</td>\n",
       "      <td>0</td>\n",
       "      <td>3.0</td>\n",
       "      <td>2.0</td>\n",
       "      <td>2.0</td>\n",
       "      <td>1.0</td>\n",
       "      <td>1.19</td>\n",
       "      <td>0.87</td>\n",
       "      <td>0.87</td>\n",
       "      <td>42.0</td>\n",
       "    </tr>\n",
       "    <tr>\n",
       "      <th>3</th>\n",
       "      <td>FF</td>\n",
       "      <td>2021-04-30</td>\n",
       "      <td>94.7</td>\n",
       "      <td>-2.68</td>\n",
       "      <td>6.38</td>\n",
       "      <td>Alcala, Jorge</td>\n",
       "      <td>593643</td>\n",
       "      <td>660896</td>\n",
       "      <td>N/a</td>\n",
       "      <td>9.0</td>\n",
       "      <td>...</td>\n",
       "      <td>1</td>\n",
       "      <td>0</td>\n",
       "      <td>3.0</td>\n",
       "      <td>2.0</td>\n",
       "      <td>2.0</td>\n",
       "      <td>1.0</td>\n",
       "      <td>1.23</td>\n",
       "      <td>0.98</td>\n",
       "      <td>0.98</td>\n",
       "      <td>39.9</td>\n",
       "    </tr>\n",
       "    <tr>\n",
       "      <th>4</th>\n",
       "      <td>FF</td>\n",
       "      <td>2021-04-30</td>\n",
       "      <td>93.8</td>\n",
       "      <td>-2.71</td>\n",
       "      <td>6.30</td>\n",
       "      <td>Alcala, Jorge</td>\n",
       "      <td>595956</td>\n",
       "      <td>660896</td>\n",
       "      <td>field_out</td>\n",
       "      <td>9.0</td>\n",
       "      <td>...</td>\n",
       "      <td>1</td>\n",
       "      <td>0</td>\n",
       "      <td>3.0</td>\n",
       "      <td>4.0</td>\n",
       "      <td>2.0</td>\n",
       "      <td>1.0</td>\n",
       "      <td>1.31</td>\n",
       "      <td>0.77</td>\n",
       "      <td>0.77</td>\n",
       "      <td>39.8</td>\n",
       "    </tr>\n",
       "  </tbody>\n",
       "</table>\n",
       "<p>5 rows × 103 columns</p>\n",
       "</div>"
      ],
      "text/plain": [
       "  pitch_type   game_date  release_speed  release_pos_x  release_pos_z  \\\n",
       "0         FF  2021-04-30           95.1          -2.62           6.42   \n",
       "1         FF  2021-04-30           96.3          -2.58           6.50   \n",
       "2         FF  2021-04-30           94.9          -2.58           6.44   \n",
       "3         FF  2021-04-30           94.7          -2.68           6.38   \n",
       "4         FF  2021-04-30           93.8          -2.71           6.30   \n",
       "\n",
       "     player_name  batter  pitcher     events  zone  ... n_thruorder_pitcher  \\\n",
       "0  Alcala, Jorge  656811   660896  field_out   6.0  ...                   1   \n",
       "1  Alcala, Jorge  593643   660896  field_out   2.0  ...                   1   \n",
       "2  Alcala, Jorge  593643   660896        N/a  12.0  ...                   1   \n",
       "3  Alcala, Jorge  593643   660896        N/a   9.0  ...                   1   \n",
       "4  Alcala, Jorge  595956   660896  field_out   9.0  ...                   1   \n",
       "\n",
       "  n_priorpa_thisgame_player_at_bat pitcher_days_since_prev_game  \\\n",
       "0                                3                          3.0   \n",
       "1                                0                          3.0   \n",
       "2                                0                          3.0   \n",
       "3                                0                          3.0   \n",
       "4                                0                          3.0   \n",
       "\n",
       "  batter_days_since_prev_game pitcher_days_until_next_game  \\\n",
       "0                         4.0                          2.0   \n",
       "1                         2.0                          2.0   \n",
       "2                         2.0                          2.0   \n",
       "3                         2.0                          2.0   \n",
       "4                         4.0                          2.0   \n",
       "\n",
       "  batter_days_until_next_game api_break_z_with_gravity api_break_x_arm  \\\n",
       "0                         1.0                     1.15            0.75   \n",
       "1                         1.0                     1.07            0.76   \n",
       "2                         1.0                     1.19            0.87   \n",
       "3                         1.0                     1.23            0.98   \n",
       "4                         1.0                     1.31            0.77   \n",
       "\n",
       "   api_break_x_batter_in  arm_angle  \n",
       "0                  -0.75       40.6  \n",
       "1                   0.76       43.0  \n",
       "2                   0.87       42.0  \n",
       "3                   0.98       39.9  \n",
       "4                   0.77       39.8  \n",
       "\n",
       "[5 rows x 103 columns]"
      ]
     },
     "execution_count": 10,
     "metadata": {},
     "output_type": "execute_result"
    }
   ],
   "source": [
    "cleaned_df.head()"
   ]
  },
  {
   "cell_type": "markdown",
   "metadata": {},
   "source": [
    "# 2025"
   ]
  },
  {
   "cell_type": "code",
   "execution_count": 5,
   "metadata": {},
   "outputs": [
    {
     "data": {
      "text/plain": [
       "(173056, 113)"
      ]
     },
     "execution_count": 5,
     "metadata": {},
     "output_type": "execute_result"
    }
   ],
   "source": [
    "test_data_2025 = combine_pitcher_data_testing()\n",
    "test_data_2025.shape"
   ]
  },
  {
   "cell_type": "code",
   "execution_count": 6,
   "metadata": {},
   "outputs": [
    {
     "data": {
      "text/plain": [
       "['spin_dir',\n",
       " 'spin_rate_deprecated',\n",
       " 'break_angle_deprecated',\n",
       " 'break_length_deprecated',\n",
       " 'tfs_deprecated',\n",
       " 'tfs_zulu_deprecated',\n",
       " 'umpire',\n",
       " 'sv_id']"
      ]
     },
     "execution_count": 6,
     "metadata": {},
     "output_type": "execute_result"
    }
   ],
   "source": [
    "# identify columns with all missing values\n",
    "missing_cols = test_data_2025.columns[test_data_2025.isnull().all()].tolist()\n",
    "missing_cols"
   ]
  },
  {
   "cell_type": "code",
   "execution_count": 7,
   "metadata": {},
   "outputs": [
    {
     "data": {
      "text/plain": [
       "(173056, 103)"
      ]
     },
     "execution_count": 7,
     "metadata": {},
     "output_type": "execute_result"
    }
   ],
   "source": [
    "# drop columns that are completely null\n",
    "test_data_2025 = drop_null_columns(test_data_2025)\n",
    "test_data_2025.shape"
   ]
  },
  {
   "cell_type": "code",
   "execution_count": null,
   "metadata": {},
   "outputs": [],
   "source": [
    "# save the data to a csv file\n",
    "# test_data.to_csv('../data/processed/pitcher_combined_21-24.csv', index=False)"
   ]
  },
  {
   "cell_type": "code",
   "execution_count": 8,
   "metadata": {},
   "outputs": [
    {
     "data": {
      "text/plain": [
       "Series([], dtype: int64)"
      ]
     },
     "execution_count": 8,
     "metadata": {},
     "output_type": "execute_result"
    }
   ],
   "source": [
    "fill_missing_2025 = handle_missing_efficient(test_data_2025)\n",
    "\n",
    "# check for missing values\n",
    "missing_values_2025 = fill_missing_2025.isnull().sum()\n",
    "missing_values_2025[missing_values_2025 > 0]"
   ]
  },
  {
   "cell_type": "code",
   "execution_count": 9,
   "metadata": {},
   "outputs": [],
   "source": [
    "cleaned_df_2025 = rename_columns(fill_missing_2025)"
   ]
  },
  {
   "cell_type": "code",
   "execution_count": 10,
   "metadata": {},
   "outputs": [],
   "source": [
    "cleaned_df_2025.to_csv('../data/processed/pitcher_cleaned_2025.csv', index=False)"
   ]
  },
  {
   "cell_type": "code",
   "execution_count": 11,
   "metadata": {},
   "outputs": [
    {
     "data": {
      "text/plain": [
       "(173056, 103)"
      ]
     },
     "execution_count": 11,
     "metadata": {},
     "output_type": "execute_result"
    }
   ],
   "source": [
    "cleaned_df_2025.shape"
   ]
  },
  {
   "cell_type": "code",
   "execution_count": 12,
   "metadata": {},
   "outputs": [
    {
     "data": {
      "application/vnd.microsoft.datawrangler.viewer.v0+json": {
       "columns": [
        {
         "name": "index",
         "rawType": "int64",
         "type": "integer"
        },
        {
         "name": "pitch_type",
         "rawType": "object",
         "type": "string"
        },
        {
         "name": "game_date",
         "rawType": "object",
         "type": "string"
        },
        {
         "name": "release_speed",
         "rawType": "float64",
         "type": "float"
        },
        {
         "name": "release_pos_x",
         "rawType": "float64",
         "type": "float"
        },
        {
         "name": "release_pos_z",
         "rawType": "float64",
         "type": "float"
        },
        {
         "name": "player_name",
         "rawType": "object",
         "type": "string"
        },
        {
         "name": "batter",
         "rawType": "int64",
         "type": "integer"
        },
        {
         "name": "pitcher",
         "rawType": "int64",
         "type": "integer"
        },
        {
         "name": "events",
         "rawType": "object",
         "type": "string"
        },
        {
         "name": "zone",
         "rawType": "object",
         "type": "unknown"
        },
        {
         "name": "game_type",
         "rawType": "object",
         "type": "string"
        },
        {
         "name": "stand",
         "rawType": "object",
         "type": "string"
        },
        {
         "name": "p_throws",
         "rawType": "object",
         "type": "string"
        },
        {
         "name": "home_team",
         "rawType": "object",
         "type": "string"
        },
        {
         "name": "away_team",
         "rawType": "object",
         "type": "string"
        },
        {
         "name": "result_type",
         "rawType": "object",
         "type": "string"
        },
        {
         "name": "hit_location",
         "rawType": "object",
         "type": "unknown"
        },
        {
         "name": "bb_type",
         "rawType": "object",
         "type": "string"
        },
        {
         "name": "balls",
         "rawType": "int64",
         "type": "integer"
        },
        {
         "name": "strikes",
         "rawType": "int64",
         "type": "integer"
        },
        {
         "name": "game_year",
         "rawType": "int64",
         "type": "integer"
        },
        {
         "name": "pfx_x",
         "rawType": "float64",
         "type": "float"
        },
        {
         "name": "pfx_z",
         "rawType": "float64",
         "type": "float"
        },
        {
         "name": "plate_x",
         "rawType": "float64",
         "type": "float"
        },
        {
         "name": "plate_z",
         "rawType": "float64",
         "type": "float"
        },
        {
         "name": "on_3b",
         "rawType": "object",
         "type": "string"
        },
        {
         "name": "on_2b",
         "rawType": "object",
         "type": "string"
        },
        {
         "name": "on_1b",
         "rawType": "object",
         "type": "string"
        },
        {
         "name": "outs_when_up",
         "rawType": "int64",
         "type": "integer"
        },
        {
         "name": "inning",
         "rawType": "int64",
         "type": "integer"
        },
        {
         "name": "inning_topbot",
         "rawType": "object",
         "type": "string"
        },
        {
         "name": "hc_x",
         "rawType": "float64",
         "type": "float"
        },
        {
         "name": "hc_y",
         "rawType": "float64",
         "type": "float"
        },
        {
         "name": "vx0",
         "rawType": "float64",
         "type": "float"
        },
        {
         "name": "vy0",
         "rawType": "float64",
         "type": "float"
        },
        {
         "name": "vz0",
         "rawType": "float64",
         "type": "float"
        },
        {
         "name": "ax",
         "rawType": "float64",
         "type": "float"
        },
        {
         "name": "ay",
         "rawType": "float64",
         "type": "float"
        },
        {
         "name": "az",
         "rawType": "float64",
         "type": "float"
        },
        {
         "name": "sz_top",
         "rawType": "float64",
         "type": "float"
        },
        {
         "name": "sz_bot",
         "rawType": "float64",
         "type": "float"
        },
        {
         "name": "hit_distance_sc",
         "rawType": "float64",
         "type": "float"
        },
        {
         "name": "launch_speed",
         "rawType": "float64",
         "type": "float"
        },
        {
         "name": "launch_angle",
         "rawType": "float64",
         "type": "float"
        },
        {
         "name": "effective_speed",
         "rawType": "float64",
         "type": "float"
        },
        {
         "name": "release_spin_rate",
         "rawType": "float64",
         "type": "float"
        },
        {
         "name": "release_extension",
         "rawType": "float64",
         "type": "float"
        },
        {
         "name": "game_pk",
         "rawType": "int64",
         "type": "integer"
        },
        {
         "name": "fielder_2",
         "rawType": "int64",
         "type": "integer"
        },
        {
         "name": "fielder_3",
         "rawType": "int64",
         "type": "integer"
        },
        {
         "name": "fielder_4",
         "rawType": "int64",
         "type": "integer"
        },
        {
         "name": "fielder_5",
         "rawType": "int64",
         "type": "integer"
        },
        {
         "name": "fielder_6",
         "rawType": "int64",
         "type": "integer"
        },
        {
         "name": "fielder_7",
         "rawType": "int64",
         "type": "integer"
        },
        {
         "name": "fielder_8",
         "rawType": "int64",
         "type": "integer"
        },
        {
         "name": "fielder_9",
         "rawType": "int64",
         "type": "integer"
        },
        {
         "name": "release_pos_y",
         "rawType": "float64",
         "type": "float"
        },
        {
         "name": "estimated_ba_using_speedangle",
         "rawType": "float64",
         "type": "float"
        },
        {
         "name": "estimated_woba_using_speedangle",
         "rawType": "float64",
         "type": "float"
        },
        {
         "name": "woba_value",
         "rawType": "float64",
         "type": "float"
        },
        {
         "name": "woba_denom",
         "rawType": "float64",
         "type": "float"
        },
        {
         "name": "babip_value",
         "rawType": "float64",
         "type": "float"
        },
        {
         "name": "iso_value",
         "rawType": "float64",
         "type": "float"
        },
        {
         "name": "launch_speed_angle",
         "rawType": "object",
         "type": "unknown"
        },
        {
         "name": "at_bat_number",
         "rawType": "int64",
         "type": "integer"
        },
        {
         "name": "pitch_number",
         "rawType": "int64",
         "type": "integer"
        },
        {
         "name": "pitch_name",
         "rawType": "object",
         "type": "string"
        },
        {
         "name": "home_score",
         "rawType": "int64",
         "type": "integer"
        },
        {
         "name": "away_score",
         "rawType": "int64",
         "type": "integer"
        },
        {
         "name": "bat_score",
         "rawType": "int64",
         "type": "integer"
        },
        {
         "name": "fld_score",
         "rawType": "int64",
         "type": "integer"
        },
        {
         "name": "post_away_score",
         "rawType": "int64",
         "type": "integer"
        },
        {
         "name": "post_home_score",
         "rawType": "int64",
         "type": "integer"
        },
        {
         "name": "post_bat_score",
         "rawType": "int64",
         "type": "integer"
        },
        {
         "name": "post_fld_score",
         "rawType": "int64",
         "type": "integer"
        },
        {
         "name": "if_fielding_alignment",
         "rawType": "object",
         "type": "string"
        },
        {
         "name": "of_fielding_alignment",
         "rawType": "object",
         "type": "string"
        },
        {
         "name": "spin_axis",
         "rawType": "float64",
         "type": "float"
        },
        {
         "name": "delta_home_win_exp",
         "rawType": "float64",
         "type": "float"
        },
        {
         "name": "delta_run_exp",
         "rawType": "float64",
         "type": "float"
        },
        {
         "name": "bat_speed",
         "rawType": "float64",
         "type": "float"
        },
        {
         "name": "swing_length",
         "rawType": "float64",
         "type": "float"
        },
        {
         "name": "estimated_slg_using_speedangle",
         "rawType": "float64",
         "type": "float"
        },
        {
         "name": "delta_pitcher_run_exp",
         "rawType": "float64",
         "type": "float"
        },
        {
         "name": "hyper_speed",
         "rawType": "float64",
         "type": "float"
        },
        {
         "name": "home_score_diff",
         "rawType": "int64",
         "type": "integer"
        },
        {
         "name": "bat_score_diff",
         "rawType": "int64",
         "type": "integer"
        },
        {
         "name": "home_win_exp",
         "rawType": "float64",
         "type": "float"
        },
        {
         "name": "bat_win_exp",
         "rawType": "float64",
         "type": "float"
        },
        {
         "name": "age_pit_legacy",
         "rawType": "int64",
         "type": "integer"
        },
        {
         "name": "age_bat_legacy",
         "rawType": "int64",
         "type": "integer"
        },
        {
         "name": "age_pit",
         "rawType": "int64",
         "type": "integer"
        },
        {
         "name": "age_bat",
         "rawType": "int64",
         "type": "integer"
        },
        {
         "name": "n_thruorder_pitcher",
         "rawType": "int64",
         "type": "integer"
        },
        {
         "name": "n_priorpa_thisgame_player_at_bat",
         "rawType": "int64",
         "type": "integer"
        },
        {
         "name": "pitcher_days_since_prev_game",
         "rawType": "float64",
         "type": "float"
        },
        {
         "name": "batter_days_since_prev_game",
         "rawType": "float64",
         "type": "float"
        },
        {
         "name": "pitcher_days_until_next_game",
         "rawType": "float64",
         "type": "float"
        },
        {
         "name": "batter_days_until_next_game",
         "rawType": "float64",
         "type": "float"
        },
        {
         "name": "api_break_z_with_gravity",
         "rawType": "float64",
         "type": "float"
        },
        {
         "name": "api_break_x_arm",
         "rawType": "float64",
         "type": "float"
        },
        {
         "name": "api_break_x_batter_in",
         "rawType": "float64",
         "type": "float"
        },
        {
         "name": "arm_angle",
         "rawType": "float64",
         "type": "float"
        }
       ],
       "conversionMethod": "pd.DataFrame",
       "ref": "dbc07175-389e-4db5-8375-14a50d6dee92",
       "rows": [
        [
         "0",
         "ST",
         "2025-04-29",
         "75.1",
         "2.69",
         "5.01",
         "Cosgrove, Tom",
         "643396",
         "676680",
         "field_out",
         "13.0",
         "R",
         "R",
         "L",
         "PIT",
         "CHC",
         "X",
         "7.0",
         "fly_ball",
         "1",
         "2",
         "2025",
         "-1.19",
         "0.12",
         "-0.09",
         "1.21",
         "N/a",
         "N/a",
         "N/a",
         "2",
         "9",
         "Bot",
         "80.2",
         "96.91",
         "-3.5944108052658144",
         "-109.24252875540006",
         "-0.8172617916658115",
         "-8.710728510249533",
         "22.207311687925003",
         "-31.287132478913765",
         "3.31",
         "1.51",
         "278.0",
         "81.6",
         "37.0",
         "73.9",
         "2533.0",
         "5.7",
         "778135",
         "608348",
         "683737",
         "670032",
         "542932",
         "621020",
         "664023",
         "691718",
         "660644",
         "54.75",
         "0.017",
         "0.02",
         "0.0",
         "1.0",
         "0.0",
         "0.0",
         "3.0",
         "78",
         "4",
         "Sweeper",
         "0",
         "9",
         "0",
         "9",
         "9",
         "0",
         "0",
         "9",
         "Standard",
         "Standard",
         "293.0",
         "0.0",
         "-0.18",
         "66.1",
         "8.0",
         "0.033",
         "0.18",
         "88.0",
         "-9",
         "-9",
         "0.0",
         "0.0",
         "29",
         "30",
         "29",
         "30",
         "1",
         "3",
         "0.0",
         "0.0",
         "0.0",
         "0.0",
         "3.97",
         "-1.19",
         "1.19",
         "0.0"
        ],
        [
         "1",
         "SI",
         "2025-04-29",
         "85.1",
         "2.21",
         "5.25",
         "Cosgrove, Tom",
         "643396",
         "676680",
         "N/a",
         "3.0",
         "R",
         "R",
         "L",
         "PIT",
         "CHC",
         "S",
         "N/a",
         "N/a",
         "1",
         "1",
         "2025",
         "1.01",
         "0.53",
         "0.62",
         "3.11",
         "N/a",
         "N/a",
         "N/a",
         "2",
         "9",
         "Bot",
         "0.0",
         "0.0",
         "-5.692554717838807",
         "-123.86859037960406",
         "0.2059119178314193",
         "11.492479787588223",
         "24.131736534507155",
         "-26.960368274180293",
         "3.31",
         "1.51",
         "0.0",
         "0.0",
         "0.0",
         "84.3",
         "2155.0",
         "5.7",
         "778135",
         "608348",
         "683737",
         "670032",
         "542932",
         "621020",
         "664023",
         "691718",
         "660644",
         "54.78",
         "0.0",
         "0.0",
         "0.0",
         "0.0",
         "0.0",
         "0.0",
         "N/a",
         "78",
         "3",
         "Sinker",
         "0",
         "9",
         "0",
         "9",
         "9",
         "0",
         "0",
         "9",
         "Standard",
         "Standard",
         "153.0",
         "0.0",
         "-0.064",
         "0.0",
         "0.0",
         "0.0",
         "0.064",
         "0.0",
         "-9",
         "-9",
         "0.0",
         "0.0",
         "29",
         "30",
         "29",
         "30",
         "1",
         "3",
         "0.0",
         "0.0",
         "0.0",
         "0.0",
         "2.61",
         "1.01",
         "-1.01",
         "0.0"
        ],
        [
         "2",
         "ST",
         "2025-04-29",
         "76.1",
         "2.65",
         "4.95",
         "Cosgrove, Tom",
         "643396",
         "676680",
         "N/a",
         "13.0",
         "R",
         "R",
         "L",
         "PIT",
         "CHC",
         "B",
         "N/a",
         "N/a",
         "0",
         "1",
         "2025",
         "-1.36",
         "0.05",
         "-0.03",
         "0.77",
         "N/a",
         "N/a",
         "N/a",
         "2",
         "9",
         "Bot",
         "0.0",
         "0.0",
         "-3.1494134767226565",
         "-110.76434407154156",
         "-1.696143689995648",
         "-10.371463980895696",
         "22.9183701693484",
         "-31.66879262014986",
         "3.31",
         "1.51",
         "0.0",
         "0.0",
         "0.0",
         "74.8",
         "2684.0",
         "5.6",
         "778135",
         "608348",
         "683737",
         "670032",
         "542932",
         "621020",
         "664023",
         "691718",
         "660644",
         "54.86",
         "0.0",
         "0.0",
         "0.0",
         "0.0",
         "0.0",
         "0.0",
         "N/a",
         "78",
         "2",
         "Sweeper",
         "0",
         "9",
         "0",
         "9",
         "9",
         "0",
         "0",
         "9",
         "Standard",
         "Standard",
         "291.0",
         "0.0",
         "0.029",
         "0.0",
         "0.0",
         "0.0",
         "-0.029",
         "0.0",
         "-9",
         "-9",
         "0.0",
         "0.0",
         "29",
         "30",
         "29",
         "30",
         "1",
         "3",
         "0.0",
         "0.0",
         "0.0",
         "0.0",
         "3.94",
         "-1.36",
         "1.36",
         "0.0"
        ],
        [
         "3",
         "ST",
         "2025-04-29",
         "76.5",
         "2.53",
         "5.06",
         "Cosgrove, Tom",
         "643396",
         "676680",
         "N/a",
         "2.0",
         "R",
         "R",
         "L",
         "PIT",
         "CHC",
         "S",
         "N/a",
         "N/a",
         "0",
         "0",
         "2025",
         "-1.18",
         "0.23",
         "0.06",
         "2.98",
         "N/a",
         "N/a",
         "N/a",
         "2",
         "9",
         "Bot",
         "0.0",
         "0.0",
         "-3.030843194898416",
         "-111.20492842536768",
         "2.3233543255721454",
         "-9.033674989472065",
         "23.64135881944989",
         "-31.04710695131255",
         "3.31",
         "1.51",
         "0.0",
         "0.0",
         "0.0",
         "75.0",
         "2616.0",
         "5.6",
         "778135",
         "608348",
         "683737",
         "670032",
         "542932",
         "621020",
         "664023",
         "691718",
         "660644",
         "54.86",
         "0.0",
         "0.0",
         "0.0",
         "0.0",
         "0.0",
         "0.0",
         "N/a",
         "78",
         "1",
         "Sweeper",
         "0",
         "9",
         "0",
         "9",
         "9",
         "0",
         "0",
         "9",
         "Standard",
         "Standard",
         "289.0",
         "0.0",
         "-0.041",
         "0.0",
         "0.0",
         "0.0",
         "0.041",
         "0.0",
         "-9",
         "-9",
         "0.0",
         "0.0",
         "29",
         "30",
         "29",
         "30",
         "1",
         "3",
         "0.0",
         "0.0",
         "0.0",
         "0.0",
         "3.73",
         "-1.18",
         "1.18",
         "0.0"
        ],
        [
         "4",
         "FF",
         "2025-04-29",
         "89.8",
         "2.26",
         "5.4",
         "Cosgrove, Tom",
         "669707",
         "676680",
         "field_out",
         "5.0",
         "R",
         "R",
         "L",
         "PIT",
         "CHC",
         "X",
         "9.0",
         "fly_ball",
         "1",
         "0",
         "2025",
         "0.56",
         "1.19",
         "0.09",
         "2.85",
         "N/a",
         "N/a",
         "N/a",
         "1",
         "9",
         "Bot",
         "153.3",
         "115.38",
         "-6.496287914152664",
         "-130.56692608481006",
         "-2.771819314297067",
         "7.804996789029428",
         "28.93690960408205",
         "-18.22054849404592",
         "3.68",
         "1.69",
         "221.0",
         "93.6",
         "57.0",
         "88.8",
         "2407.0",
         "5.8",
         "778135",
         "608348",
         "683737",
         "670032",
         "542932",
         "621020",
         "664023",
         "691718",
         "660644",
         "54.69",
         "0.017",
         "0.021",
         "0.0",
         "1.0",
         "0.0",
         "0.0",
         "3.0",
         "77",
         "2",
         "4-Seam Fastball",
         "0",
         "9",
         "0",
         "9",
         "9",
         "0",
         "0",
         "9",
         "Standard",
         "Standard",
         "135.0",
         "0.0",
         "-0.295",
         "75.7",
         "7.8",
         "0.028",
         "0.295",
         "93.6",
         "-9",
         "-9",
         "0.0",
         "0.0",
         "29",
         "27",
         "29",
         "27",
         "1",
         "3",
         "0.0",
         "0.0",
         "0.0",
         "0.0",
         "1.65",
         "0.56",
         "-0.56",
         "0.0"
        ]
       ],
       "shape": {
        "columns": 103,
        "rows": 5
       }
      },
      "text/html": [
       "<div>\n",
       "<style scoped>\n",
       "    .dataframe tbody tr th:only-of-type {\n",
       "        vertical-align: middle;\n",
       "    }\n",
       "\n",
       "    .dataframe tbody tr th {\n",
       "        vertical-align: top;\n",
       "    }\n",
       "\n",
       "    .dataframe thead th {\n",
       "        text-align: right;\n",
       "    }\n",
       "</style>\n",
       "<table border=\"1\" class=\"dataframe\">\n",
       "  <thead>\n",
       "    <tr style=\"text-align: right;\">\n",
       "      <th></th>\n",
       "      <th>pitch_type</th>\n",
       "      <th>game_date</th>\n",
       "      <th>release_speed</th>\n",
       "      <th>release_pos_x</th>\n",
       "      <th>release_pos_z</th>\n",
       "      <th>player_name</th>\n",
       "      <th>batter</th>\n",
       "      <th>pitcher</th>\n",
       "      <th>events</th>\n",
       "      <th>zone</th>\n",
       "      <th>...</th>\n",
       "      <th>n_thruorder_pitcher</th>\n",
       "      <th>n_priorpa_thisgame_player_at_bat</th>\n",
       "      <th>pitcher_days_since_prev_game</th>\n",
       "      <th>batter_days_since_prev_game</th>\n",
       "      <th>pitcher_days_until_next_game</th>\n",
       "      <th>batter_days_until_next_game</th>\n",
       "      <th>api_break_z_with_gravity</th>\n",
       "      <th>api_break_x_arm</th>\n",
       "      <th>api_break_x_batter_in</th>\n",
       "      <th>arm_angle</th>\n",
       "    </tr>\n",
       "  </thead>\n",
       "  <tbody>\n",
       "    <tr>\n",
       "      <th>0</th>\n",
       "      <td>ST</td>\n",
       "      <td>2025-04-29</td>\n",
       "      <td>75.1</td>\n",
       "      <td>2.69</td>\n",
       "      <td>5.01</td>\n",
       "      <td>Cosgrove, Tom</td>\n",
       "      <td>643396</td>\n",
       "      <td>676680</td>\n",
       "      <td>field_out</td>\n",
       "      <td>13.0</td>\n",
       "      <td>...</td>\n",
       "      <td>1</td>\n",
       "      <td>3</td>\n",
       "      <td>0.0</td>\n",
       "      <td>0.0</td>\n",
       "      <td>0.0</td>\n",
       "      <td>0.0</td>\n",
       "      <td>3.97</td>\n",
       "      <td>-1.19</td>\n",
       "      <td>1.19</td>\n",
       "      <td>0.0</td>\n",
       "    </tr>\n",
       "    <tr>\n",
       "      <th>1</th>\n",
       "      <td>SI</td>\n",
       "      <td>2025-04-29</td>\n",
       "      <td>85.1</td>\n",
       "      <td>2.21</td>\n",
       "      <td>5.25</td>\n",
       "      <td>Cosgrove, Tom</td>\n",
       "      <td>643396</td>\n",
       "      <td>676680</td>\n",
       "      <td>N/a</td>\n",
       "      <td>3.0</td>\n",
       "      <td>...</td>\n",
       "      <td>1</td>\n",
       "      <td>3</td>\n",
       "      <td>0.0</td>\n",
       "      <td>0.0</td>\n",
       "      <td>0.0</td>\n",
       "      <td>0.0</td>\n",
       "      <td>2.61</td>\n",
       "      <td>1.01</td>\n",
       "      <td>-1.01</td>\n",
       "      <td>0.0</td>\n",
       "    </tr>\n",
       "    <tr>\n",
       "      <th>2</th>\n",
       "      <td>ST</td>\n",
       "      <td>2025-04-29</td>\n",
       "      <td>76.1</td>\n",
       "      <td>2.65</td>\n",
       "      <td>4.95</td>\n",
       "      <td>Cosgrove, Tom</td>\n",
       "      <td>643396</td>\n",
       "      <td>676680</td>\n",
       "      <td>N/a</td>\n",
       "      <td>13.0</td>\n",
       "      <td>...</td>\n",
       "      <td>1</td>\n",
       "      <td>3</td>\n",
       "      <td>0.0</td>\n",
       "      <td>0.0</td>\n",
       "      <td>0.0</td>\n",
       "      <td>0.0</td>\n",
       "      <td>3.94</td>\n",
       "      <td>-1.36</td>\n",
       "      <td>1.36</td>\n",
       "      <td>0.0</td>\n",
       "    </tr>\n",
       "    <tr>\n",
       "      <th>3</th>\n",
       "      <td>ST</td>\n",
       "      <td>2025-04-29</td>\n",
       "      <td>76.5</td>\n",
       "      <td>2.53</td>\n",
       "      <td>5.06</td>\n",
       "      <td>Cosgrove, Tom</td>\n",
       "      <td>643396</td>\n",
       "      <td>676680</td>\n",
       "      <td>N/a</td>\n",
       "      <td>2.0</td>\n",
       "      <td>...</td>\n",
       "      <td>1</td>\n",
       "      <td>3</td>\n",
       "      <td>0.0</td>\n",
       "      <td>0.0</td>\n",
       "      <td>0.0</td>\n",
       "      <td>0.0</td>\n",
       "      <td>3.73</td>\n",
       "      <td>-1.18</td>\n",
       "      <td>1.18</td>\n",
       "      <td>0.0</td>\n",
       "    </tr>\n",
       "    <tr>\n",
       "      <th>4</th>\n",
       "      <td>FF</td>\n",
       "      <td>2025-04-29</td>\n",
       "      <td>89.8</td>\n",
       "      <td>2.26</td>\n",
       "      <td>5.40</td>\n",
       "      <td>Cosgrove, Tom</td>\n",
       "      <td>669707</td>\n",
       "      <td>676680</td>\n",
       "      <td>field_out</td>\n",
       "      <td>5.0</td>\n",
       "      <td>...</td>\n",
       "      <td>1</td>\n",
       "      <td>3</td>\n",
       "      <td>0.0</td>\n",
       "      <td>0.0</td>\n",
       "      <td>0.0</td>\n",
       "      <td>0.0</td>\n",
       "      <td>1.65</td>\n",
       "      <td>0.56</td>\n",
       "      <td>-0.56</td>\n",
       "      <td>0.0</td>\n",
       "    </tr>\n",
       "  </tbody>\n",
       "</table>\n",
       "<p>5 rows × 103 columns</p>\n",
       "</div>"
      ],
      "text/plain": [
       "  pitch_type   game_date  release_speed  release_pos_x  release_pos_z  \\\n",
       "0         ST  2025-04-29           75.1           2.69           5.01   \n",
       "1         SI  2025-04-29           85.1           2.21           5.25   \n",
       "2         ST  2025-04-29           76.1           2.65           4.95   \n",
       "3         ST  2025-04-29           76.5           2.53           5.06   \n",
       "4         FF  2025-04-29           89.8           2.26           5.40   \n",
       "\n",
       "     player_name  batter  pitcher     events  zone  ... n_thruorder_pitcher  \\\n",
       "0  Cosgrove, Tom  643396   676680  field_out  13.0  ...                   1   \n",
       "1  Cosgrove, Tom  643396   676680        N/a   3.0  ...                   1   \n",
       "2  Cosgrove, Tom  643396   676680        N/a  13.0  ...                   1   \n",
       "3  Cosgrove, Tom  643396   676680        N/a   2.0  ...                   1   \n",
       "4  Cosgrove, Tom  669707   676680  field_out   5.0  ...                   1   \n",
       "\n",
       "  n_priorpa_thisgame_player_at_bat pitcher_days_since_prev_game  \\\n",
       "0                                3                          0.0   \n",
       "1                                3                          0.0   \n",
       "2                                3                          0.0   \n",
       "3                                3                          0.0   \n",
       "4                                3                          0.0   \n",
       "\n",
       "  batter_days_since_prev_game pitcher_days_until_next_game  \\\n",
       "0                         0.0                          0.0   \n",
       "1                         0.0                          0.0   \n",
       "2                         0.0                          0.0   \n",
       "3                         0.0                          0.0   \n",
       "4                         0.0                          0.0   \n",
       "\n",
       "  batter_days_until_next_game api_break_z_with_gravity api_break_x_arm  \\\n",
       "0                         0.0                     3.97           -1.19   \n",
       "1                         0.0                     2.61            1.01   \n",
       "2                         0.0                     3.94           -1.36   \n",
       "3                         0.0                     3.73           -1.18   \n",
       "4                         0.0                     1.65            0.56   \n",
       "\n",
       "   api_break_x_batter_in  arm_angle  \n",
       "0                   1.19        0.0  \n",
       "1                  -1.01        0.0  \n",
       "2                   1.36        0.0  \n",
       "3                   1.18        0.0  \n",
       "4                  -0.56        0.0  \n",
       "\n",
       "[5 rows x 103 columns]"
      ]
     },
     "execution_count": 12,
     "metadata": {},
     "output_type": "execute_result"
    }
   ],
   "source": [
    "cleaned_df_2025.head()"
   ]
  },
  {
   "cell_type": "code",
   "execution_count": null,
   "metadata": {},
   "outputs": [],
   "source": []
  }
 ],
 "metadata": {
  "kernelspec": {
   "display_name": "env_baseball",
   "language": "python",
   "name": "python3"
  },
  "language_info": {
   "codemirror_mode": {
    "name": "ipython",
    "version": 3
   },
   "file_extension": ".py",
   "mimetype": "text/x-python",
   "name": "python",
   "nbconvert_exporter": "python",
   "pygments_lexer": "ipython3",
   "version": "3.9.21"
  }
 },
 "nbformat": 4,
 "nbformat_minor": 2
}
